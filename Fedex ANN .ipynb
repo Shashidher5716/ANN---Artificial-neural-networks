{
 "cells": [
  {
   "cell_type": "code",
   "execution_count": 1,
   "id": "a3cdef55",
   "metadata": {},
   "outputs": [],
   "source": [
    "# Importing the Libraries\n",
    "\n",
    "from tensorflow.keras.models import Sequential\n",
    "import pandas as pd\n",
    "import numpy as np\n",
    "from tensorflow.keras.layers import Dense\n",
    "from keras.utils import np_utils\n",
    "import matplotlib.pyplot as plt\n",
    "import seaborn as sns\n",
    "import scipy\n",
    "import keras"
   ]
  },
  {
   "cell_type": "code",
   "execution_count": 2,
   "id": "57557cc6",
   "metadata": {},
   "outputs": [],
   "source": [
    "# loading data set\n",
    "\n",
    "data = pd.read_csv(r\"C:\\Users\\Shashi\\Model Building\\Fedex\\fedex.csv\")"
   ]
  },
  {
   "cell_type": "code",
   "execution_count": 3,
   "id": "0c18bab9",
   "metadata": {},
   "outputs": [
    {
     "name": "stdout",
     "output_type": "stream",
     "text": [
      "<class 'pandas.core.frame.DataFrame'>\n",
      "RangeIndex: 3604175 entries, 0 to 3604174\n",
      "Data columns (total 15 columns):\n",
      " #   Column                 Dtype  \n",
      "---  ------                 -----  \n",
      " 0   Year                   int64  \n",
      " 1   Month                  int64  \n",
      " 2   DayofMonth             int64  \n",
      " 3   DayOfWeek              int64  \n",
      " 4   Actual_Shipment_Time   float64\n",
      " 5   Planned_Shipment_Time  int64  \n",
      " 6   Planned_Delivery_Time  int64  \n",
      " 7   Carrier_Name           object \n",
      " 8   Carrier_Num            int64  \n",
      " 9   Planned_TimeofTravel   float64\n",
      " 10  Shipment_Delay         float64\n",
      " 11  Source                 object \n",
      " 12  Destination            object \n",
      " 13  Distance               int64  \n",
      " 14  Delivery_Status        float64\n",
      "dtypes: float64(4), int64(8), object(3)\n",
      "memory usage: 412.5+ MB\n"
     ]
    }
   ],
   "source": [
    "data.info() #info"
   ]
  },
  {
   "cell_type": "code",
   "execution_count": 4,
   "id": "6cbc2b89",
   "metadata": {},
   "outputs": [
    {
     "data": {
      "text/plain": [
       "Index(['Year', 'Month', 'DayofMonth', 'DayOfWeek', 'Actual_Shipment_Time',\n",
       "       'Planned_Shipment_Time', 'Planned_Delivery_Time', 'Carrier_Name',\n",
       "       'Carrier_Num', 'Planned_TimeofTravel', 'Shipment_Delay', 'Source',\n",
       "       'Destination', 'Distance', 'Delivery_Status'],\n",
       "      dtype='object')"
      ]
     },
     "execution_count": 4,
     "metadata": {},
     "output_type": "execute_result"
    }
   ],
   "source": [
    "data = data.dropna() # droppping na value as its a bigger dataset\n",
    "data.columns"
   ]
  },
  {
   "cell_type": "code",
   "execution_count": 5,
   "id": "4163daa1",
   "metadata": {},
   "outputs": [],
   "source": [
    "#checking  correlation\n",
    "\n",
    "corr1=pd.DataFrame(data.iloc[:,:-1].corr())"
   ]
  },
  {
   "cell_type": "code",
   "execution_count": 6,
   "id": "7b6448a2",
   "metadata": {},
   "outputs": [],
   "source": [
    "#here correlation of year is least removing year column and categorical feature as it cannot be consider as i need to check for selectkBEst\n",
    "\n",
    "data_new = data.drop(['Year','Source','Destination','Carrier_Name'],axis=1)\n"
   ]
  },
  {
   "cell_type": "code",
   "execution_count": 7,
   "id": "cf24b673",
   "metadata": {},
   "outputs": [],
   "source": [
    "#output is categorical in tw0 categories so we are checking best feature using Selecet Baise\n",
    "\n",
    "from sklearn.feature_selection import SelectKBest\n",
    "from sklearn.feature_selection import chi2"
   ]
  },
  {
   "cell_type": "code",
   "execution_count": 8,
   "id": "1c84385a",
   "metadata": {},
   "outputs": [],
   "source": [
    "# separating x and y\n",
    "\n",
    "x=data_new.iloc[:,0:11]\n",
    "y=data_new['Delivery_Status']"
   ]
  },
  {
   "cell_type": "code",
   "execution_count": 9,
   "id": "35a9b18e",
   "metadata": {},
   "outputs": [],
   "source": [
    "#taking absolute value as we cannot i/p the negative value for Select K best\n",
    "\n",
    "x['Shipment_Delay']=x['Shipment_Delay'].abs()\n",
    "x['Planned_Delivery_Time']=x['Planned_Delivery_Time'].abs()\n",
    "x['Planned_TimeofTravel']=x['Planned_TimeofTravel'].abs()"
   ]
  },
  {
   "cell_type": "code",
   "execution_count": 10,
   "id": "1b0df87e",
   "metadata": {},
   "outputs": [
    {
     "data": {
      "text/html": [
       "<div>\n",
       "<style scoped>\n",
       "    .dataframe tbody tr th:only-of-type {\n",
       "        vertical-align: middle;\n",
       "    }\n",
       "\n",
       "    .dataframe tbody tr th {\n",
       "        vertical-align: top;\n",
       "    }\n",
       "\n",
       "    .dataframe thead th {\n",
       "        text-align: right;\n",
       "    }\n",
       "</style>\n",
       "<table border=\"1\" class=\"dataframe\">\n",
       "  <thead>\n",
       "    <tr style=\"text-align: right;\">\n",
       "      <th></th>\n",
       "      <th>Features</th>\n",
       "      <th>Score</th>\n",
       "    </tr>\n",
       "  </thead>\n",
       "  <tbody>\n",
       "    <tr>\n",
       "      <th>0</th>\n",
       "      <td>Month</td>\n",
       "      <td>1.373603e+03</td>\n",
       "    </tr>\n",
       "    <tr>\n",
       "      <th>1</th>\n",
       "      <td>DayofMonth</td>\n",
       "      <td>6.953094e+03</td>\n",
       "    </tr>\n",
       "    <tr>\n",
       "      <th>2</th>\n",
       "      <td>DayOfWeek</td>\n",
       "      <td>5.446962e+02</td>\n",
       "    </tr>\n",
       "    <tr>\n",
       "      <th>3</th>\n",
       "      <td>Actual_Shipment_Time</td>\n",
       "      <td>3.672496e+07</td>\n",
       "    </tr>\n",
       "    <tr>\n",
       "      <th>4</th>\n",
       "      <td>Planned_Shipment_Time</td>\n",
       "      <td>2.025423e+07</td>\n",
       "    </tr>\n",
       "    <tr>\n",
       "      <th>5</th>\n",
       "      <td>Planned_Delivery_Time</td>\n",
       "      <td>1.714078e+07</td>\n",
       "    </tr>\n",
       "    <tr>\n",
       "      <th>6</th>\n",
       "      <td>Carrier_Num</td>\n",
       "      <td>7.941823e+05</td>\n",
       "    </tr>\n",
       "    <tr>\n",
       "      <th>7</th>\n",
       "      <td>Planned_TimeofTravel</td>\n",
       "      <td>8.771008e+04</td>\n",
       "    </tr>\n",
       "    <tr>\n",
       "      <th>8</th>\n",
       "      <td>Shipment_Delay</td>\n",
       "      <td>1.094900e+08</td>\n",
       "    </tr>\n",
       "    <tr>\n",
       "      <th>9</th>\n",
       "      <td>Distance</td>\n",
       "      <td>5.431833e+05</td>\n",
       "    </tr>\n",
       "    <tr>\n",
       "      <th>10</th>\n",
       "      <td>Delivery_Status</td>\n",
       "      <td>2.804073e+06</td>\n",
       "    </tr>\n",
       "  </tbody>\n",
       "</table>\n",
       "</div>"
      ],
      "text/plain": [
       "                 Features         Score\n",
       "0                   Month  1.373603e+03\n",
       "1              DayofMonth  6.953094e+03\n",
       "2               DayOfWeek  5.446962e+02\n",
       "3    Actual_Shipment_Time  3.672496e+07\n",
       "4   Planned_Shipment_Time  2.025423e+07\n",
       "5   Planned_Delivery_Time  1.714078e+07\n",
       "6             Carrier_Num  7.941823e+05\n",
       "7    Planned_TimeofTravel  8.771008e+04\n",
       "8          Shipment_Delay  1.094900e+08\n",
       "9                Distance  5.431833e+05\n",
       "10        Delivery_Status  2.804073e+06"
      ]
     },
     "execution_count": 10,
     "metadata": {},
     "output_type": "execute_result"
    }
   ],
   "source": [
    "# Rank fo all Features\n",
    "\n",
    "ordered_rank_features=SelectKBest(score_func=chi2,k=11)\n",
    "ordered_feature=ordered_rank_features.fit(x,y)\n",
    "dfscores=pd.DataFrame(ordered_feature.scores_,columns=[\"Score\"])\n",
    "dfcolumns=pd.DataFrame(x.columns)\n",
    "features_rank=pd.concat([dfcolumns,dfscores],axis=1)    \n",
    "features_rank.columns=['Features','Score']\n",
    "features_rank"
   ]
  },
  {
   "cell_type": "code",
   "execution_count": 11,
   "id": "1005e82b",
   "metadata": {},
   "outputs": [
    {
     "data": {
      "text/html": [
       "<div>\n",
       "<style scoped>\n",
       "    .dataframe tbody tr th:only-of-type {\n",
       "        vertical-align: middle;\n",
       "    }\n",
       "\n",
       "    .dataframe tbody tr th {\n",
       "        vertical-align: top;\n",
       "    }\n",
       "\n",
       "    .dataframe thead th {\n",
       "        text-align: right;\n",
       "    }\n",
       "</style>\n",
       "<table border=\"1\" class=\"dataframe\">\n",
       "  <thead>\n",
       "    <tr style=\"text-align: right;\">\n",
       "      <th></th>\n",
       "      <th>Features</th>\n",
       "      <th>Score</th>\n",
       "    </tr>\n",
       "  </thead>\n",
       "  <tbody>\n",
       "    <tr>\n",
       "      <th>8</th>\n",
       "      <td>Shipment_Delay</td>\n",
       "      <td>1.094900e+08</td>\n",
       "    </tr>\n",
       "    <tr>\n",
       "      <th>3</th>\n",
       "      <td>Actual_Shipment_Time</td>\n",
       "      <td>3.672496e+07</td>\n",
       "    </tr>\n",
       "    <tr>\n",
       "      <th>4</th>\n",
       "      <td>Planned_Shipment_Time</td>\n",
       "      <td>2.025423e+07</td>\n",
       "    </tr>\n",
       "    <tr>\n",
       "      <th>5</th>\n",
       "      <td>Planned_Delivery_Time</td>\n",
       "      <td>1.714078e+07</td>\n",
       "    </tr>\n",
       "    <tr>\n",
       "      <th>10</th>\n",
       "      <td>Delivery_Status</td>\n",
       "      <td>2.804073e+06</td>\n",
       "    </tr>\n",
       "  </tbody>\n",
       "</table>\n",
       "</div>"
      ],
      "text/plain": [
       "                 Features         Score\n",
       "8          Shipment_Delay  1.094900e+08\n",
       "3    Actual_Shipment_Time  3.672496e+07\n",
       "4   Planned_Shipment_Time  2.025423e+07\n",
       "5   Planned_Delivery_Time  1.714078e+07\n",
       "10        Delivery_Status  2.804073e+06"
      ]
     },
     "execution_count": 11,
     "metadata": {},
     "output_type": "execute_result"
    }
   ],
   "source": [
    "#top 8 features \n",
    "\n",
    "features_rank.nlargest(5,'Score')"
   ]
  },
  {
   "cell_type": "code",
   "execution_count": 12,
   "id": "5fcbb420",
   "metadata": {},
   "outputs": [],
   "source": [
    "#checking for highy correlated feature \n",
    "\n",
    "threshold=0.8\n",
    "def correlation(dataset, threshold):\n",
    "    col_corr = set()  # Set of all the names of correlated columns\n",
    "    corr_matrix = dataset.corr()\n",
    "    for i in range(len(corr_matrix.columns)):\n",
    "        for j in range(i):\n",
    "            if abs(corr_matrix.iloc[i, j]) > threshold: # we are interested in absolute coeff value\n",
    "                colname = corr_matrix.columns[i]  # getting the name of column\n",
    "                col_corr.add(colname)\n",
    "    return col_corr"
   ]
  },
  {
   "cell_type": "code",
   "execution_count": 13,
   "id": "1102256a",
   "metadata": {},
   "outputs": [
    {
     "data": {
      "text/plain": [
       "{'Distance', 'Planned_Shipment_Time'}"
      ]
     },
     "execution_count": 13,
     "metadata": {},
     "output_type": "execute_result"
    }
   ],
   "source": [
    "correlation(data_new.iloc[:,:],threshold)"
   ]
  },
  {
   "cell_type": "code",
   "execution_count": 14,
   "id": "61094e76",
   "metadata": {},
   "outputs": [],
   "source": [
    "#{'Distance', 'Planned_Shipment_Time'} highly correlated features\n",
    "#month and day of month is not palying important role while day of week is playing importrole in our inference\n",
    "#removing planned shipment of time as both planned shipment of time and distance plays same role\n",
    "#here i am removing  all unwanted feature from original data set "
   ]
  },
  {
   "cell_type": "code",
   "execution_count": 15,
   "id": "a2b66fa8",
   "metadata": {},
   "outputs": [],
   "source": [
    "data_updated=data.drop(['Year','Month','DayofMonth','Source','Destination','Carrier_Name','Planned_Shipment_Time'],axis=1)"
   ]
  },
  {
   "cell_type": "code",
   "execution_count": 16,
   "id": "143afc51",
   "metadata": {},
   "outputs": [],
   "source": [
    "#Creating dummy for day of week\n",
    "\n",
    "day_dummy=pd.get_dummies(data_updated['DayOfWeek'])"
   ]
  },
  {
   "cell_type": "code",
   "execution_count": 17,
   "id": "ef173bfd",
   "metadata": {},
   "outputs": [],
   "source": [
    "#renaming all dummyies column\n",
    "\n",
    "day_dummy.columns=[\"DayOfWeek\"+str(i) for i in range(0, 7)]"
   ]
  },
  {
   "cell_type": "code",
   "execution_count": 18,
   "id": "ea8adaaa",
   "metadata": {},
   "outputs": [],
   "source": [
    "#dropping Day of Week\n",
    "\n",
    "data_updated = data_updated.drop(['DayOfWeek'],axis=1)"
   ]
  },
  {
   "cell_type": "code",
   "execution_count": 19,
   "id": "a3745ffa",
   "metadata": {},
   "outputs": [],
   "source": [
    "#creating frame fo cocating dummy and data set\n",
    "\n",
    "frames=[data_updated,day_dummy]"
   ]
  },
  {
   "cell_type": "code",
   "execution_count": 20,
   "id": "b5c89fa0",
   "metadata": {},
   "outputs": [],
   "source": [
    "#concating fed_updated and day dummy\n",
    "fed_final=pd.concat(frames,axis=1)"
   ]
  },
  {
   "cell_type": "code",
   "execution_count": 21,
   "id": "39a3bc81",
   "metadata": {},
   "outputs": [
    {
     "name": "stdout",
     "output_type": "stream",
     "text": [
      "<class 'pandas.core.frame.DataFrame'>\n",
      "Int64Index: 3522167 entries, 0 to 3604174\n",
      "Data columns (total 14 columns):\n",
      " #   Column                 Dtype  \n",
      "---  ------                 -----  \n",
      " 0   Actual_Shipment_Time   float64\n",
      " 1   Planned_Delivery_Time  int64  \n",
      " 2   Carrier_Num            int64  \n",
      " 3   Planned_TimeofTravel   float64\n",
      " 4   Shipment_Delay         float64\n",
      " 5   Distance               int64  \n",
      " 6   Delivery_Status        float64\n",
      " 7   DayOfWeek0             uint8  \n",
      " 8   DayOfWeek1             uint8  \n",
      " 9   DayOfWeek2             uint8  \n",
      " 10  DayOfWeek3             uint8  \n",
      " 11  DayOfWeek4             uint8  \n",
      " 12  DayOfWeek5             uint8  \n",
      " 13  DayOfWeek6             uint8  \n",
      "dtypes: float64(4), int64(3), uint8(7)\n",
      "memory usage: 238.5 MB\n"
     ]
    }
   ],
   "source": [
    "#checking info \n",
    "\n",
    "fed_final.info()"
   ]
  },
  {
   "cell_type": "code",
   "execution_count": 22,
   "id": "1fc6e3b7",
   "metadata": {},
   "outputs": [
    {
     "data": {
      "text/html": [
       "<div>\n",
       "<style scoped>\n",
       "    .dataframe tbody tr th:only-of-type {\n",
       "        vertical-align: middle;\n",
       "    }\n",
       "\n",
       "    .dataframe tbody tr th {\n",
       "        vertical-align: top;\n",
       "    }\n",
       "\n",
       "    .dataframe thead th {\n",
       "        text-align: right;\n",
       "    }\n",
       "</style>\n",
       "<table border=\"1\" class=\"dataframe\">\n",
       "  <thead>\n",
       "    <tr style=\"text-align: right;\">\n",
       "      <th></th>\n",
       "      <th>Actual_Shipment_Time</th>\n",
       "      <th>Planned_Delivery_Time</th>\n",
       "      <th>Carrier_Num</th>\n",
       "      <th>Planned_TimeofTravel</th>\n",
       "      <th>Shipment_Delay</th>\n",
       "      <th>Distance</th>\n",
       "      <th>Delivery_Status</th>\n",
       "      <th>DayOfWeek0</th>\n",
       "      <th>DayOfWeek1</th>\n",
       "      <th>DayOfWeek2</th>\n",
       "      <th>DayOfWeek3</th>\n",
       "      <th>DayOfWeek4</th>\n",
       "      <th>DayOfWeek5</th>\n",
       "      <th>DayOfWeek6</th>\n",
       "    </tr>\n",
       "  </thead>\n",
       "  <tbody>\n",
       "    <tr>\n",
       "      <th>0</th>\n",
       "      <td>2003.0</td>\n",
       "      <td>2225</td>\n",
       "      <td>335</td>\n",
       "      <td>150.0</td>\n",
       "      <td>8.0</td>\n",
       "      <td>810</td>\n",
       "      <td>0.0</td>\n",
       "      <td>0</td>\n",
       "      <td>0</td>\n",
       "      <td>0</td>\n",
       "      <td>1</td>\n",
       "      <td>0</td>\n",
       "      <td>0</td>\n",
       "      <td>0</td>\n",
       "    </tr>\n",
       "    <tr>\n",
       "      <th>1</th>\n",
       "      <td>754.0</td>\n",
       "      <td>1000</td>\n",
       "      <td>3231</td>\n",
       "      <td>145.0</td>\n",
       "      <td>19.0</td>\n",
       "      <td>810</td>\n",
       "      <td>1.0</td>\n",
       "      <td>0</td>\n",
       "      <td>0</td>\n",
       "      <td>0</td>\n",
       "      <td>1</td>\n",
       "      <td>0</td>\n",
       "      <td>0</td>\n",
       "      <td>0</td>\n",
       "    </tr>\n",
       "    <tr>\n",
       "      <th>2</th>\n",
       "      <td>628.0</td>\n",
       "      <td>750</td>\n",
       "      <td>448</td>\n",
       "      <td>90.0</td>\n",
       "      <td>8.0</td>\n",
       "      <td>515</td>\n",
       "      <td>0.0</td>\n",
       "      <td>0</td>\n",
       "      <td>0</td>\n",
       "      <td>0</td>\n",
       "      <td>1</td>\n",
       "      <td>0</td>\n",
       "      <td>0</td>\n",
       "      <td>0</td>\n",
       "    </tr>\n",
       "    <tr>\n",
       "      <th>3</th>\n",
       "      <td>926.0</td>\n",
       "      <td>1100</td>\n",
       "      <td>1746</td>\n",
       "      <td>90.0</td>\n",
       "      <td>-4.0</td>\n",
       "      <td>515</td>\n",
       "      <td>0.0</td>\n",
       "      <td>0</td>\n",
       "      <td>0</td>\n",
       "      <td>0</td>\n",
       "      <td>1</td>\n",
       "      <td>0</td>\n",
       "      <td>0</td>\n",
       "      <td>0</td>\n",
       "    </tr>\n",
       "    <tr>\n",
       "      <th>4</th>\n",
       "      <td>1829.0</td>\n",
       "      <td>1925</td>\n",
       "      <td>3920</td>\n",
       "      <td>90.0</td>\n",
       "      <td>34.0</td>\n",
       "      <td>515</td>\n",
       "      <td>1.0</td>\n",
       "      <td>0</td>\n",
       "      <td>0</td>\n",
       "      <td>0</td>\n",
       "      <td>1</td>\n",
       "      <td>0</td>\n",
       "      <td>0</td>\n",
       "      <td>0</td>\n",
       "    </tr>\n",
       "  </tbody>\n",
       "</table>\n",
       "</div>"
      ],
      "text/plain": [
       "   Actual_Shipment_Time  Planned_Delivery_Time  Carrier_Num  \\\n",
       "0                2003.0                   2225          335   \n",
       "1                 754.0                   1000         3231   \n",
       "2                 628.0                    750          448   \n",
       "3                 926.0                   1100         1746   \n",
       "4                1829.0                   1925         3920   \n",
       "\n",
       "   Planned_TimeofTravel  Shipment_Delay  Distance  Delivery_Status  \\\n",
       "0                 150.0             8.0       810              0.0   \n",
       "1                 145.0            19.0       810              1.0   \n",
       "2                  90.0             8.0       515              0.0   \n",
       "3                  90.0            -4.0       515              0.0   \n",
       "4                  90.0            34.0       515              1.0   \n",
       "\n",
       "   DayOfWeek0  DayOfWeek1  DayOfWeek2  DayOfWeek3  DayOfWeek4  DayOfWeek5  \\\n",
       "0           0           0           0           1           0           0   \n",
       "1           0           0           0           1           0           0   \n",
       "2           0           0           0           1           0           0   \n",
       "3           0           0           0           1           0           0   \n",
       "4           0           0           0           1           0           0   \n",
       "\n",
       "   DayOfWeek6  \n",
       "0           0  \n",
       "1           0  \n",
       "2           0  \n",
       "3           0  \n",
       "4           0  "
      ]
     },
     "execution_count": 22,
     "metadata": {},
     "output_type": "execute_result"
    }
   ],
   "source": [
    "fed_final.head()"
   ]
  },
  {
   "cell_type": "code",
   "execution_count": 23,
   "id": "c9a1bfd0",
   "metadata": {},
   "outputs": [
    {
     "data": {
      "text/html": [
       "<div>\n",
       "<style scoped>\n",
       "    .dataframe tbody tr th:only-of-type {\n",
       "        vertical-align: middle;\n",
       "    }\n",
       "\n",
       "    .dataframe tbody tr th {\n",
       "        vertical-align: top;\n",
       "    }\n",
       "\n",
       "    .dataframe thead th {\n",
       "        text-align: right;\n",
       "    }\n",
       "</style>\n",
       "<table border=\"1\" class=\"dataframe\">\n",
       "  <thead>\n",
       "    <tr style=\"text-align: right;\">\n",
       "      <th></th>\n",
       "      <th>Actual_Shipment_Time</th>\n",
       "      <th>Planned_Delivery_Time</th>\n",
       "      <th>Carrier_Num</th>\n",
       "      <th>Planned_TimeofTravel</th>\n",
       "      <th>Shipment_Delay</th>\n",
       "      <th>Distance</th>\n",
       "      <th>Delivery_Status</th>\n",
       "      <th>DayOfWeek0</th>\n",
       "      <th>DayOfWeek1</th>\n",
       "      <th>DayOfWeek2</th>\n",
       "      <th>DayOfWeek3</th>\n",
       "      <th>DayOfWeek4</th>\n",
       "      <th>DayOfWeek5</th>\n",
       "      <th>DayOfWeek6</th>\n",
       "    </tr>\n",
       "  </thead>\n",
       "  <tbody>\n",
       "    <tr>\n",
       "      <th>3604170</th>\n",
       "      <td>1059.0</td>\n",
       "      <td>1256</td>\n",
       "      <td>1547</td>\n",
       "      <td>236.0</td>\n",
       "      <td>-1.0</td>\n",
       "      <td>1572</td>\n",
       "      <td>0.0</td>\n",
       "      <td>0</td>\n",
       "      <td>0</td>\n",
       "      <td>0</td>\n",
       "      <td>1</td>\n",
       "      <td>0</td>\n",
       "      <td>0</td>\n",
       "      <td>0</td>\n",
       "    </tr>\n",
       "    <tr>\n",
       "      <th>3604171</th>\n",
       "      <td>555.0</td>\n",
       "      <td>738</td>\n",
       "      <td>1548</td>\n",
       "      <td>98.0</td>\n",
       "      <td>-5.0</td>\n",
       "      <td>515</td>\n",
       "      <td>0.0</td>\n",
       "      <td>0</td>\n",
       "      <td>0</td>\n",
       "      <td>0</td>\n",
       "      <td>1</td>\n",
       "      <td>0</td>\n",
       "      <td>0</td>\n",
       "      <td>0</td>\n",
       "    </tr>\n",
       "    <tr>\n",
       "      <th>3604172</th>\n",
       "      <td>821.0</td>\n",
       "      <td>1003</td>\n",
       "      <td>1548</td>\n",
       "      <td>96.0</td>\n",
       "      <td>-6.0</td>\n",
       "      <td>432</td>\n",
       "      <td>0.0</td>\n",
       "      <td>0</td>\n",
       "      <td>0</td>\n",
       "      <td>0</td>\n",
       "      <td>1</td>\n",
       "      <td>0</td>\n",
       "      <td>0</td>\n",
       "      <td>0</td>\n",
       "    </tr>\n",
       "    <tr>\n",
       "      <th>3604173</th>\n",
       "      <td>718.0</td>\n",
       "      <td>852</td>\n",
       "      <td>1551</td>\n",
       "      <td>77.0</td>\n",
       "      <td>-17.0</td>\n",
       "      <td>191</td>\n",
       "      <td>0.0</td>\n",
       "      <td>0</td>\n",
       "      <td>0</td>\n",
       "      <td>0</td>\n",
       "      <td>1</td>\n",
       "      <td>0</td>\n",
       "      <td>0</td>\n",
       "      <td>0</td>\n",
       "    </tr>\n",
       "    <tr>\n",
       "      <th>3604174</th>\n",
       "      <td>1127.0</td>\n",
       "      <td>1130</td>\n",
       "      <td>1551</td>\n",
       "      <td>159.0</td>\n",
       "      <td>96.0</td>\n",
       "      <td>906</td>\n",
       "      <td>1.0</td>\n",
       "      <td>0</td>\n",
       "      <td>0</td>\n",
       "      <td>0</td>\n",
       "      <td>1</td>\n",
       "      <td>0</td>\n",
       "      <td>0</td>\n",
       "      <td>0</td>\n",
       "    </tr>\n",
       "  </tbody>\n",
       "</table>\n",
       "</div>"
      ],
      "text/plain": [
       "         Actual_Shipment_Time  Planned_Delivery_Time  Carrier_Num  \\\n",
       "3604170                1059.0                   1256         1547   \n",
       "3604171                 555.0                    738         1548   \n",
       "3604172                 821.0                   1003         1548   \n",
       "3604173                 718.0                    852         1551   \n",
       "3604174                1127.0                   1130         1551   \n",
       "\n",
       "         Planned_TimeofTravel  Shipment_Delay  Distance  Delivery_Status  \\\n",
       "3604170                 236.0            -1.0      1572              0.0   \n",
       "3604171                  98.0            -5.0       515              0.0   \n",
       "3604172                  96.0            -6.0       432              0.0   \n",
       "3604173                  77.0           -17.0       191              0.0   \n",
       "3604174                 159.0            96.0       906              1.0   \n",
       "\n",
       "         DayOfWeek0  DayOfWeek1  DayOfWeek2  DayOfWeek3  DayOfWeek4  \\\n",
       "3604170           0           0           0           1           0   \n",
       "3604171           0           0           0           1           0   \n",
       "3604172           0           0           0           1           0   \n",
       "3604173           0           0           0           1           0   \n",
       "3604174           0           0           0           1           0   \n",
       "\n",
       "         DayOfWeek5  DayOfWeek6  \n",
       "3604170           0           0  \n",
       "3604171           0           0  \n",
       "3604172           0           0  \n",
       "3604173           0           0  \n",
       "3604174           0           0  "
      ]
     },
     "execution_count": 23,
     "metadata": {},
     "output_type": "execute_result"
    }
   ],
   "source": [
    "fed_final.tail()"
   ]
  },
  {
   "cell_type": "code",
   "execution_count": 24,
   "id": "d97cc1ba",
   "metadata": {},
   "outputs": [],
   "source": [
    "# Normalization function \n",
    "def norm_func(i):\n",
    "    x = (i-i.min())\t/ (i.max()-i.min())\n",
    "    return (x)"
   ]
  },
  {
   "cell_type": "code",
   "execution_count": 25,
   "id": "58a21958",
   "metadata": {},
   "outputs": [
    {
     "data": {
      "text/html": [
       "<div>\n",
       "<style scoped>\n",
       "    .dataframe tbody tr th:only-of-type {\n",
       "        vertical-align: middle;\n",
       "    }\n",
       "\n",
       "    .dataframe tbody tr th {\n",
       "        vertical-align: top;\n",
       "    }\n",
       "\n",
       "    .dataframe thead th {\n",
       "        text-align: right;\n",
       "    }\n",
       "</style>\n",
       "<table border=\"1\" class=\"dataframe\">\n",
       "  <thead>\n",
       "    <tr style=\"text-align: right;\">\n",
       "      <th></th>\n",
       "      <th>Actual_Shipment_Time</th>\n",
       "      <th>Planned_Delivery_Time</th>\n",
       "      <th>Carrier_Num</th>\n",
       "      <th>Planned_TimeofTravel</th>\n",
       "      <th>Shipment_Delay</th>\n",
       "      <th>Distance</th>\n",
       "      <th>Delivery_Status</th>\n",
       "      <th>DayOfWeek0</th>\n",
       "      <th>DayOfWeek1</th>\n",
       "      <th>DayOfWeek2</th>\n",
       "      <th>DayOfWeek3</th>\n",
       "      <th>DayOfWeek4</th>\n",
       "      <th>DayOfWeek5</th>\n",
       "      <th>DayOfWeek6</th>\n",
       "    </tr>\n",
       "  </thead>\n",
       "  <tbody>\n",
       "    <tr>\n",
       "      <th>count</th>\n",
       "      <td>3.522167e+06</td>\n",
       "      <td>3.522167e+06</td>\n",
       "      <td>3.522167e+06</td>\n",
       "      <td>3.522167e+06</td>\n",
       "      <td>3.522167e+06</td>\n",
       "      <td>3.522167e+06</td>\n",
       "      <td>3.522167e+06</td>\n",
       "      <td>3.522167e+06</td>\n",
       "      <td>3.522167e+06</td>\n",
       "      <td>3.522167e+06</td>\n",
       "      <td>3.522167e+06</td>\n",
       "      <td>3.522167e+06</td>\n",
       "      <td>3.522167e+06</td>\n",
       "      <td>3.522167e+06</td>\n",
       "    </tr>\n",
       "    <tr>\n",
       "      <th>mean</th>\n",
       "      <td>5.575077e-01</td>\n",
       "      <td>6.333849e-01</td>\n",
       "      <td>2.265182e-01</td>\n",
       "      <td>2.255559e-01</td>\n",
       "      <td>4.031192e-02</td>\n",
       "      <td>1.455495e-01</td>\n",
       "      <td>2.038785e-01</td>\n",
       "      <td>1.477945e-01</td>\n",
       "      <td>1.437334e-01</td>\n",
       "      <td>1.468295e-01</td>\n",
       "      <td>1.490943e-01</td>\n",
       "      <td>1.483902e-01</td>\n",
       "      <td>1.241225e-01</td>\n",
       "      <td>1.400357e-01</td>\n",
       "    </tr>\n",
       "    <tr>\n",
       "      <th>std</th>\n",
       "      <td>2.006682e-01</td>\n",
       "      <td>2.058692e-01</td>\n",
       "      <td>1.988732e-01</td>\n",
       "      <td>1.018153e-01</td>\n",
       "      <td>1.414173e-02</td>\n",
       "      <td>1.137221e-01</td>\n",
       "      <td>4.028797e-01</td>\n",
       "      <td>3.548962e-01</td>\n",
       "      <td>3.508192e-01</td>\n",
       "      <td>3.539359e-01</td>\n",
       "      <td>3.561814e-01</td>\n",
       "      <td>3.554864e-01</td>\n",
       "      <td>3.297212e-01</td>\n",
       "      <td>3.470241e-01</td>\n",
       "    </tr>\n",
       "    <tr>\n",
       "      <th>min</th>\n",
       "      <td>0.000000e+00</td>\n",
       "      <td>0.000000e+00</td>\n",
       "      <td>0.000000e+00</td>\n",
       "      <td>0.000000e+00</td>\n",
       "      <td>0.000000e+00</td>\n",
       "      <td>0.000000e+00</td>\n",
       "      <td>0.000000e+00</td>\n",
       "      <td>0.000000e+00</td>\n",
       "      <td>0.000000e+00</td>\n",
       "      <td>0.000000e+00</td>\n",
       "      <td>0.000000e+00</td>\n",
       "      <td>0.000000e+00</td>\n",
       "      <td>0.000000e+00</td>\n",
       "      <td>0.000000e+00</td>\n",
       "    </tr>\n",
       "    <tr>\n",
       "      <th>25%</th>\n",
       "      <td>3.868278e-01</td>\n",
       "      <td>4.722340e-01</td>\n",
       "      <td>6.263477e-02</td>\n",
       "      <td>1.532847e-01</td>\n",
       "      <td>3.438843e-02</td>\n",
       "      <td>6.402747e-02</td>\n",
       "      <td>0.000000e+00</td>\n",
       "      <td>0.000000e+00</td>\n",
       "      <td>0.000000e+00</td>\n",
       "      <td>0.000000e+00</td>\n",
       "      <td>0.000000e+00</td>\n",
       "      <td>0.000000e+00</td>\n",
       "      <td>0.000000e+00</td>\n",
       "      <td>0.000000e+00</td>\n",
       "    </tr>\n",
       "    <tr>\n",
       "      <th>50%</th>\n",
       "      <td>5.535640e-01</td>\n",
       "      <td>6.430691e-01</td>\n",
       "      <td>1.602834e-01</td>\n",
       "      <td>1.985401e-01</td>\n",
       "      <td>3.556077e-02</td>\n",
       "      <td>1.159362e-01</td>\n",
       "      <td>0.000000e+00</td>\n",
       "      <td>0.000000e+00</td>\n",
       "      <td>0.000000e+00</td>\n",
       "      <td>0.000000e+00</td>\n",
       "      <td>0.000000e+00</td>\n",
       "      <td>0.000000e+00</td>\n",
       "      <td>0.000000e+00</td>\n",
       "      <td>0.000000e+00</td>\n",
       "    </tr>\n",
       "    <tr>\n",
       "      <th>75%</th>\n",
       "      <td>7.219675e-01</td>\n",
       "      <td>8.096651e-01</td>\n",
       "      <td>3.667728e-01</td>\n",
       "      <td>2.700730e-01</td>\n",
       "      <td>3.985932e-02</td>\n",
       "      <td>1.922844e-01</td>\n",
       "      <td>0.000000e+00</td>\n",
       "      <td>0.000000e+00</td>\n",
       "      <td>0.000000e+00</td>\n",
       "      <td>0.000000e+00</td>\n",
       "      <td>0.000000e+00</td>\n",
       "      <td>0.000000e+00</td>\n",
       "      <td>0.000000e+00</td>\n",
       "      <td>0.000000e+00</td>\n",
       "    </tr>\n",
       "    <tr>\n",
       "      <th>max</th>\n",
       "      <td>1.000000e+00</td>\n",
       "      <td>1.000000e+00</td>\n",
       "      <td>1.000000e+00</td>\n",
       "      <td>1.000000e+00</td>\n",
       "      <td>1.000000e+00</td>\n",
       "      <td>1.000000e+00</td>\n",
       "      <td>1.000000e+00</td>\n",
       "      <td>1.000000e+00</td>\n",
       "      <td>1.000000e+00</td>\n",
       "      <td>1.000000e+00</td>\n",
       "      <td>1.000000e+00</td>\n",
       "      <td>1.000000e+00</td>\n",
       "      <td>1.000000e+00</td>\n",
       "      <td>1.000000e+00</td>\n",
       "    </tr>\n",
       "  </tbody>\n",
       "</table>\n",
       "</div>"
      ],
      "text/plain": [
       "       Actual_Shipment_Time  Planned_Delivery_Time   Carrier_Num  \\\n",
       "count          3.522167e+06           3.522167e+06  3.522167e+06   \n",
       "mean           5.575077e-01           6.333849e-01  2.265182e-01   \n",
       "std            2.006682e-01           2.058692e-01  1.988732e-01   \n",
       "min            0.000000e+00           0.000000e+00  0.000000e+00   \n",
       "25%            3.868278e-01           4.722340e-01  6.263477e-02   \n",
       "50%            5.535640e-01           6.430691e-01  1.602834e-01   \n",
       "75%            7.219675e-01           8.096651e-01  3.667728e-01   \n",
       "max            1.000000e+00           1.000000e+00  1.000000e+00   \n",
       "\n",
       "       Planned_TimeofTravel  Shipment_Delay      Distance  Delivery_Status  \\\n",
       "count          3.522167e+06    3.522167e+06  3.522167e+06     3.522167e+06   \n",
       "mean           2.255559e-01    4.031192e-02  1.455495e-01     2.038785e-01   \n",
       "std            1.018153e-01    1.414173e-02  1.137221e-01     4.028797e-01   \n",
       "min            0.000000e+00    0.000000e+00  0.000000e+00     0.000000e+00   \n",
       "25%            1.532847e-01    3.438843e-02  6.402747e-02     0.000000e+00   \n",
       "50%            1.985401e-01    3.556077e-02  1.159362e-01     0.000000e+00   \n",
       "75%            2.700730e-01    3.985932e-02  1.922844e-01     0.000000e+00   \n",
       "max            1.000000e+00    1.000000e+00  1.000000e+00     1.000000e+00   \n",
       "\n",
       "         DayOfWeek0    DayOfWeek1    DayOfWeek2    DayOfWeek3    DayOfWeek4  \\\n",
       "count  3.522167e+06  3.522167e+06  3.522167e+06  3.522167e+06  3.522167e+06   \n",
       "mean   1.477945e-01  1.437334e-01  1.468295e-01  1.490943e-01  1.483902e-01   \n",
       "std    3.548962e-01  3.508192e-01  3.539359e-01  3.561814e-01  3.554864e-01   \n",
       "min    0.000000e+00  0.000000e+00  0.000000e+00  0.000000e+00  0.000000e+00   \n",
       "25%    0.000000e+00  0.000000e+00  0.000000e+00  0.000000e+00  0.000000e+00   \n",
       "50%    0.000000e+00  0.000000e+00  0.000000e+00  0.000000e+00  0.000000e+00   \n",
       "75%    0.000000e+00  0.000000e+00  0.000000e+00  0.000000e+00  0.000000e+00   \n",
       "max    1.000000e+00  1.000000e+00  1.000000e+00  1.000000e+00  1.000000e+00   \n",
       "\n",
       "         DayOfWeek5    DayOfWeek6  \n",
       "count  3.522167e+06  3.522167e+06  \n",
       "mean   1.241225e-01  1.400357e-01  \n",
       "std    3.297212e-01  3.470241e-01  \n",
       "min    0.000000e+00  0.000000e+00  \n",
       "25%    0.000000e+00  0.000000e+00  \n",
       "50%    0.000000e+00  0.000000e+00  \n",
       "75%    0.000000e+00  0.000000e+00  \n",
       "max    1.000000e+00  1.000000e+00  "
      ]
     },
     "execution_count": 25,
     "metadata": {},
     "output_type": "execute_result"
    }
   ],
   "source": [
    "# Normalized data frame (considering the numerical part of data)\n",
    "df_norm = norm_func(fed_final)\n",
    "df_norm.describe()"
   ]
  },
  {
   "cell_type": "code",
   "execution_count": 26,
   "id": "20716f24",
   "metadata": {},
   "outputs": [],
   "source": [
    "#separating i/p and output\n",
    "\n",
    "x=df_norm.iloc[:,[0,1,2,3,4,5,7,8,9,10,11,12,13]]\n",
    "y=df_norm['Delivery_Status']"
   ]
  },
  {
   "cell_type": "code",
   "execution_count": 27,
   "id": "a6c3db65",
   "metadata": {},
   "outputs": [],
   "source": [
    "#converting into float\n",
    "\n",
    "y=np.asarray(y).astype('float32')"
   ]
  },
  {
   "cell_type": "code",
   "execution_count": 28,
   "id": "07258168",
   "metadata": {},
   "outputs": [],
   "source": [
    "from sklearn.model_selection import train_test_split\n",
    "\n",
    "x_train, x_test, y_train ,y_test = train_test_split(x,y,test_size=0.2,random_state=10)"
   ]
  },
  {
   "cell_type": "code",
   "execution_count": 29,
   "id": "8149ba63",
   "metadata": {},
   "outputs": [
    {
     "data": {
      "text/plain": [
       "13"
      ]
     },
     "execution_count": 29,
     "metadata": {},
     "output_type": "execute_result"
    }
   ],
   "source": [
    "x.shape[1]"
   ]
  },
  {
   "cell_type": "code",
   "execution_count": 30,
   "id": "2853acd6",
   "metadata": {},
   "outputs": [],
   "source": [
    "def design_mlp():\n",
    "    model=Sequential()\n",
    "    model.add(Dense(x.shape[1],activation='relu',input_dim=x.shape[1]))\n",
    "    model.add(Dense(150,activation='relu'))\n",
    "    model.add(Dense(1,activation='sigmoid'))\n",
    "    return model\n",
    "    #compile model\n",
    "model= design_mlp()\n",
    "a=model.compile(optimizer='adam',loss=\"binary_crossentropy\",metrics=[\"accuracy\"])"
   ]
  },
  {
   "cell_type": "code",
   "execution_count": 31,
   "id": "8655151b",
   "metadata": {},
   "outputs": [],
   "source": [
    "#now splitting training into new train and validation data set\n",
    "x_train_new, x_test_val, y_train_new ,y_test_val = train_test_split(x_train,y_train,test_size=0.2,random_state=10)"
   ]
  },
  {
   "cell_type": "code",
   "execution_count": 32,
   "id": "40490723",
   "metadata": {},
   "outputs": [
    {
     "name": "stdout",
     "output_type": "stream",
     "text": [
      "Epoch 1/20\n",
      "46/46 [==============================] - 6s 102ms/step - loss: 0.5626 - accuracy: 0.7827 - val_loss: 0.5165 - val_accuracy: 0.7965\n",
      "Epoch 2/20\n",
      "46/46 [==============================] - 4s 86ms/step - loss: 0.5098 - accuracy: 0.7961 - val_loss: 0.5022 - val_accuracy: 0.7965\n",
      "Epoch 3/20\n",
      "46/46 [==============================] - 4s 87ms/step - loss: 0.4962 - accuracy: 0.7961 - val_loss: 0.4886 - val_accuracy: 0.7965\n",
      "Epoch 4/20\n",
      "46/46 [==============================] - 4s 82ms/step - loss: 0.4839 - accuracy: 0.7961 - val_loss: 0.4782 - val_accuracy: 0.7965\n",
      "Epoch 5/20\n",
      "46/46 [==============================] - 4s 82ms/step - loss: 0.4754 - accuracy: 0.7961 - val_loss: 0.4714 - val_accuracy: 0.7965\n",
      "Epoch 6/20\n",
      "46/46 [==============================] - 4s 84ms/step - loss: 0.4694 - accuracy: 0.7961 - val_loss: 0.4659 - val_accuracy: 0.7965\n",
      "Epoch 7/20\n",
      "46/46 [==============================] - 4s 82ms/step - loss: 0.4635 - accuracy: 0.7962 - val_loss: 0.4593 - val_accuracy: 0.7970\n",
      "Epoch 8/20\n",
      "46/46 [==============================] - 4s 81ms/step - loss: 0.4557 - accuracy: 0.7978 - val_loss: 0.4500 - val_accuracy: 0.8001\n",
      "Epoch 9/20\n",
      "46/46 [==============================] - 4s 86ms/step - loss: 0.4442 - accuracy: 0.8026 - val_loss: 0.4357 - val_accuracy: 0.8062\n",
      "Epoch 10/20\n",
      "46/46 [==============================] - 4s 82ms/step - loss: 0.4256 - accuracy: 0.8108 - val_loss: 0.4118 - val_accuracy: 0.8173\n",
      "Epoch 11/20\n",
      "46/46 [==============================] - 4s 82ms/step - loss: 0.3949 - accuracy: 0.8254 - val_loss: 0.3741 - val_accuracy: 0.8339\n",
      "Epoch 12/20\n",
      "46/46 [==============================] - 4s 81ms/step - loss: 0.3523 - accuracy: 0.8482 - val_loss: 0.3281 - val_accuracy: 0.8621\n",
      "Epoch 13/20\n",
      "46/46 [==============================] - 4s 82ms/step - loss: 0.3067 - accuracy: 0.8718 - val_loss: 0.2844 - val_accuracy: 0.8823\n",
      "Epoch 14/20\n",
      "46/46 [==============================] - 4s 83ms/step - loss: 0.2656 - accuracy: 0.8917 - val_loss: 0.2469 - val_accuracy: 0.9038\n",
      "Epoch 15/20\n",
      "46/46 [==============================] - 4s 83ms/step - loss: 0.2310 - accuracy: 0.9080 - val_loss: 0.2154 - val_accuracy: 0.9157\n",
      "Epoch 16/20\n",
      "46/46 [==============================] - 4s 84ms/step - loss: 0.2023 - accuracy: 0.9210 - val_loss: 0.1891 - val_accuracy: 0.9241\n",
      "Epoch 17/20\n",
      "46/46 [==============================] - 4s 83ms/step - loss: 0.1773 - accuracy: 0.9317 - val_loss: 0.1690 - val_accuracy: 0.9253\n",
      "Epoch 18/20\n",
      "46/46 [==============================] - 4s 82ms/step - loss: 0.1571 - accuracy: 0.9406 - val_loss: 0.1473 - val_accuracy: 0.9437\n",
      "Epoch 19/20\n",
      "46/46 [==============================] - 4s 84ms/step - loss: 0.1389 - accuracy: 0.9486 - val_loss: 0.1318 - val_accuracy: 0.9572\n",
      "Epoch 20/20\n",
      "46/46 [==============================] - 4s 83ms/step - loss: 0.1245 - accuracy: 0.9552 - val_loss: 0.1182 - val_accuracy: 0.9547\n"
     ]
    }
   ],
   "source": [
    "model = model.fit(x_train_new,y_train_new,epochs=20,batch_size=50000,validation_data=(x_test_val, y_test_val))"
   ]
  },
  {
   "cell_type": "code",
   "execution_count": 38,
   "id": "2acc5429",
   "metadata": {},
   "outputs": [
    {
     "data": {
      "text/plain": [
       "dict_keys(['loss', 'accuracy', 'val_loss', 'val_accuracy'])"
      ]
     },
     "execution_count": 38,
     "metadata": {},
     "output_type": "execute_result"
    }
   ],
   "source": [
    "history_dict = model.history\n",
    "history_dict.keys()"
   ]
  },
  {
   "cell_type": "code",
   "execution_count": 39,
   "id": "0b3a73fe",
   "metadata": {},
   "outputs": [
    {
     "data": {
      "image/png": "[encoded data removed]",
      "text/plain": [
       "<Figure size 640x480 with 1 Axes>"
      ]
     },
     "metadata": {},
     "output_type": "display_data"
    }
   ],
   "source": [
    "#Plotting validation scores\n",
    "#graph between  Loss and validation loss\n",
    "import matplotlib.pyplot as plt\n",
    "acc = model.history['accuracy']\n",
    "val_acc = model.history['val_accuracy']\n",
    "loss = model.history['loss']\n",
    "val_loss = model.history['val_loss']\n",
    "epochs= range(1,len(acc)+1)\n",
    "plt.plot(epochs, loss, 'bo', label='Training loss')\n",
    "plt.plot(epochs, val_loss, 'b', label='Validation loss')\n",
    "plt.title('Training and validation loss')\n",
    "plt.xlabel('Epochs')\n",
    "plt.ylabel('Loss')\n",
    "plt.legend()\n",
    "\n",
    "plt.show()"
   ]
  },
  {
   "cell_type": "code",
   "execution_count": 40,
   "id": "9aaf5fe5",
   "metadata": {},
   "outputs": [
    {
     "data": {
      "image/png": "[encoded data removed]",
      "text/plain": [
       "<Figure size 640x480 with 1 Axes>"
      ]
     },
     "metadata": {},
     "output_type": "display_data"
    }
   ],
   "source": [
    "plt.clf()\n",
    "acc_values = history_dict['accuracy']\n",
    "val_acc_values = history_dict['val_accuracy']\n",
    "plt.plot(epochs, acc, 'bo', label='Training acc')\n",
    "plt.plot(epochs, val_acc, 'b', label='Validation acc')\n",
    "plt.title('Training and validation accuracy')\n",
    "plt.xlabel('Epochs')\n",
    "plt.ylabel('accuracy')\n",
    "plt.legend()\n",
    "plt.show()"
   ]
  },
  {
   "cell_type": "code",
   "execution_count": 41,
   "id": "f43ab84a",
   "metadata": {},
   "outputs": [
    {
     "name": "stdout",
     "output_type": "stream",
     "text": [
      "Epoch 1/20\n",
      "57/57 [==============================] - 6s 83ms/step - loss: 0.5709 - accuracy: 0.7686\n",
      "Epoch 2/20\n",
      "57/57 [==============================] - 5s 82ms/step - loss: 0.5030 - accuracy: 0.7961\n",
      "Epoch 3/20\n",
      "57/57 [==============================] - 5s 83ms/step - loss: 0.4872 - accuracy: 0.7961\n",
      "Epoch 4/20\n",
      "57/57 [==============================] - 5s 85ms/step - loss: 0.4724 - accuracy: 0.7961\n",
      "Epoch 5/20\n",
      "57/57 [==============================] - 5s 83ms/step - loss: 0.4589 - accuracy: 0.7996\n",
      "Epoch 6/20\n",
      "57/57 [==============================] - 5s 84ms/step - loss: 0.4435 - accuracy: 0.8061\n",
      "Epoch 7/20\n",
      "57/57 [==============================] - 5s 85ms/step - loss: 0.4189 - accuracy: 0.8166\n",
      "Epoch 8/20\n",
      "57/57 [==============================] - 5s 79ms/step - loss: 0.3809 - accuracy: 0.8362\n",
      "Epoch 9/20\n",
      "57/57 [==============================] - 4s 78ms/step - loss: 0.3316 - accuracy: 0.8613\n",
      "Epoch 10/20\n",
      "57/57 [==============================] - 5s 79ms/step - loss: 0.2810 - accuracy: 0.8859\n",
      "Epoch 11/20\n",
      "57/57 [==============================] - 5s 82ms/step - loss: 0.2375 - accuracy: 0.9059\n",
      "Epoch 12/20\n",
      "57/57 [==============================] - 5s 82ms/step - loss: 0.2009 - accuracy: 0.9224\n",
      "Epoch 13/20\n",
      "57/57 [==============================] - 4s 78ms/step - loss: 0.1711 - accuracy: 0.9354\n",
      "Epoch 14/20\n",
      "57/57 [==============================] - 5s 83ms/step - loss: 0.1469 - accuracy: 0.9457\n",
      "Epoch 15/20\n",
      "57/57 [==============================] - 5s 81ms/step - loss: 0.1272 - accuracy: 0.9542\n",
      "Epoch 16/20\n",
      "57/57 [==============================] - 4s 79ms/step - loss: 0.1113 - accuracy: 0.9610\n",
      "Epoch 17/20\n",
      "57/57 [==============================] - 4s 79ms/step - loss: 0.0986 - accuracy: 0.9665\n",
      "Epoch 18/20\n",
      "57/57 [==============================] - 4s 77ms/step - loss: 0.0883 - accuracy: 0.9709\n",
      "Epoch 19/20\n",
      "57/57 [==============================] - 4s 76ms/step - loss: 0.0799 - accuracy: 0.9744\n",
      "Epoch 20/20\n",
      "57/57 [==============================] - 4s 78ms/step - loss: 0.0729 - accuracy: 0.9774\n",
      "22014/22014 [==============================] - 70s 3ms/step - loss: 0.0699 - accuracy: 0.9778\n"
     ]
    }
   ],
   "source": [
    "# final model\n",
    "\n",
    "model=Sequential()\n",
    "model.add(Dense(x.shape[1],activation='relu',input_dim=x.shape[1]))\n",
    "model.add(Dense(150,activation='relu'))\n",
    "model.add(Dense(1,activation='sigmoid'))\n",
    "model.compile(optimizer='adam',loss='binary_crossentropy',metrics=['accuracy'])\n",
    "model.fit(x_train, y_train, epochs=20, batch_size=50000)\n"
   ]
  },
  {
   "cell_type": "code",
   "execution_count": 42,
   "id": "d5f23fc2",
   "metadata": {},
   "outputs": [
    {
     "name": "stdout",
     "output_type": "stream",
     "text": [
      "22014/22014 [==============================] - 71s 3ms/step - loss: 0.0699 - accuracy: 0.9778\n"
     ]
    }
   ],
   "source": [
    "#evaluating model\n",
    "\n",
    "test_mse_score, test_mae_score = model.evaluate(x_test, y_test)"
   ]
  },
  {
   "cell_type": "code",
   "execution_count": 43,
   "id": "2b8b45ec",
   "metadata": {},
   "outputs": [
    {
     "data": {
      "text/plain": [
       "0.9778233170509338"
      ]
     },
     "execution_count": 43,
     "metadata": {},
     "output_type": "execute_result"
    }
   ],
   "source": [
    "test_mae_score"
   ]
  },
  {
   "cell_type": "code",
   "execution_count": 44,
   "id": "04e5e99f",
   "metadata": {},
   "outputs": [
    {
     "data": {
      "text/plain": [
       "0.0698806568980217"
      ]
     },
     "execution_count": 44,
     "metadata": {},
     "output_type": "execute_result"
    }
   ],
   "source": [
    "test_mse_score"
   ]
  },
  {
   "cell_type": "code",
   "execution_count": null,
   "id": "95ed3f95",
   "metadata": {},
   "outputs": [],
   "source": []
  }
 ],
 "metadata": {
  "kernelspec": {
   "display_name": "Python 3 (ipykernel)",
   "language": "python",
   "name": "python3"
  },
  "language_info": {
   "codemirror_mode": {
    "name": "ipython",
    "version": 3
   },
   "file_extension": ".py",
   "mimetype": "text/x-python",
   "name": "python",
   "nbconvert_exporter": "python",
   "pygments_lexer": "ipython3",
   "version": "3.9.13"
  }
 },
 "nbformat": 4,
 "nbformat_minor": 5
}
